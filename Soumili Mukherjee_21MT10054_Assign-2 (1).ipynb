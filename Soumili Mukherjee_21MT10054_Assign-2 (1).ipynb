{
 "cells": [
  {
   "cell_type": "code",
   "execution_count": 1,
   "id": "c86bc756",
   "metadata": {},
   "outputs": [],
   "source": [
    "import numpy as np\n",
    "import matplotlib.pyplot as plt\n",
    "import tensorflow as tf\n",
    "from tensorflow import keras\n",
    "from sklearn.preprocessing import LabelBinarizer"
   ]
  },
  {
   "cell_type": "code",
   "execution_count": 2,
   "id": "b5c55b2d",
   "metadata": {},
   "outputs": [],
   "source": [
    "from tensorflow.keras.models import Sequential\n",
    "from tensorflow.keras.layers import Dense\n",
    "from tensorflow.keras.layers import Flatten\n",
    "from tensorflow.keras.layers import Activation\n",
    "from tensorflow.keras.layers import BatchNormalization\n",
    "from tensorflow.keras.optimizers import Adam"
   ]
  },
  {
   "cell_type": "code",
   "execution_count": 3,
   "id": "6ab4d20a",
   "metadata": {},
   "outputs": [],
   "source": [
    "#load dataset\n",
    "digit_mnist = keras.datasets.mnist\n",
    "(Xtrain,Ytrain),(Xtest,Ytest)=digit_mnist.load_data() #spilt the dataset"
   ]
  },
  {
   "cell_type": "code",
   "execution_count": 4,
   "id": "09d5ea63",
   "metadata": {},
   "outputs": [
    {
     "name": "stdout",
     "output_type": "stream",
     "text": [
      "Shape of training data:  (60000, 28, 28)\n",
      "Shape of test data:  (10000, 28, 28)\n"
     ]
    }
   ],
   "source": [
    "print(\"Shape of training data: \",Xtrain.shape)\n",
    "print(\"Shape of test data: \",Xtest.shape)"
   ]
  },
  {
   "cell_type": "code",
   "execution_count": 5,
   "id": "f26d9379",
   "metadata": {},
   "outputs": [],
   "source": [
    "#normalizing the feature values\n",
    "Xtrain = Xtrain.astype(\"float32\")/255.0\n",
    "Xtest = Xtest.astype(\"float32\")/255.0"
   ]
  },
  {
   "cell_type": "code",
   "execution_count": 6,
   "id": "324ea500",
   "metadata": {},
   "outputs": [],
   "source": [
    "#convert the labels from integer to vector\n",
    "Ytrain = LabelBinarizer().fit_transform(Ytrain)\n",
    "Ytest = LabelBinarizer().fit_transform(Ytest)"
   ]
  },
  {
   "cell_type": "code",
   "execution_count": 7,
   "id": "e2d287c3",
   "metadata": {},
   "outputs": [],
   "source": [
    "#create the deep network architecture\n",
    "# everywhere relu activation except output layer(sigmoid)\n",
    "model_1= Sequential()\n",
    "model_1.add(Flatten(input_shape = (28,28)))\n",
    "for i in range(10):\n",
    "    model_1.add(Dense(10))\n",
    "    model_1.add(Activation(\"relu\"))\n",
    "    model_1.add(BatchNormalization())\n",
    "model_1.add(Dense(10,activation=\"sigmoid\"))"
   ]
  },
  {
   "cell_type": "code",
   "execution_count": 8,
   "id": "c347edef",
   "metadata": {},
   "outputs": [
    {
     "name": "stdout",
     "output_type": "stream",
     "text": [
      "Model: \"sequential\"\n",
      "_________________________________________________________________\n",
      " Layer (type)                Output Shape              Param #   \n",
      "=================================================================\n",
      " flatten (Flatten)           (None, 784)               0         \n",
      "                                                                 \n",
      " dense (Dense)               (None, 10)                7850      \n",
      "                                                                 \n",
      " activation (Activation)     (None, 10)                0         \n",
      "                                                                 \n",
      " batch_normalization (BatchN  (None, 10)               40        \n",
      " ormalization)                                                   \n",
      "                                                                 \n",
      " dense_1 (Dense)             (None, 10)                110       \n",
      "                                                                 \n",
      " activation_1 (Activation)   (None, 10)                0         \n",
      "                                                                 \n",
      " batch_normalization_1 (Batc  (None, 10)               40        \n",
      " hNormalization)                                                 \n",
      "                                                                 \n",
      " dense_2 (Dense)             (None, 10)                110       \n",
      "                                                                 \n",
      " activation_2 (Activation)   (None, 10)                0         \n",
      "                                                                 \n",
      " batch_normalization_2 (Batc  (None, 10)               40        \n",
      " hNormalization)                                                 \n",
      "                                                                 \n",
      " dense_3 (Dense)             (None, 10)                110       \n",
      "                                                                 \n",
      " activation_3 (Activation)   (None, 10)                0         \n",
      "                                                                 \n",
      " batch_normalization_3 (Batc  (None, 10)               40        \n",
      " hNormalization)                                                 \n",
      "                                                                 \n",
      " dense_4 (Dense)             (None, 10)                110       \n",
      "                                                                 \n",
      " activation_4 (Activation)   (None, 10)                0         \n",
      "                                                                 \n",
      " batch_normalization_4 (Batc  (None, 10)               40        \n",
      " hNormalization)                                                 \n",
      "                                                                 \n",
      " dense_5 (Dense)             (None, 10)                110       \n",
      "                                                                 \n",
      " activation_5 (Activation)   (None, 10)                0         \n",
      "                                                                 \n",
      " batch_normalization_5 (Batc  (None, 10)               40        \n",
      " hNormalization)                                                 \n",
      "                                                                 \n",
      " dense_6 (Dense)             (None, 10)                110       \n",
      "                                                                 \n",
      " activation_6 (Activation)   (None, 10)                0         \n",
      "                                                                 \n",
      " batch_normalization_6 (Batc  (None, 10)               40        \n",
      " hNormalization)                                                 \n",
      "                                                                 \n",
      " dense_7 (Dense)             (None, 10)                110       \n",
      "                                                                 \n",
      " activation_7 (Activation)   (None, 10)                0         \n",
      "                                                                 \n",
      " batch_normalization_7 (Batc  (None, 10)               40        \n",
      " hNormalization)                                                 \n",
      "                                                                 \n",
      " dense_8 (Dense)             (None, 10)                110       \n",
      "                                                                 \n",
      " activation_8 (Activation)   (None, 10)                0         \n",
      "                                                                 \n",
      " batch_normalization_8 (Batc  (None, 10)               40        \n",
      " hNormalization)                                                 \n",
      "                                                                 \n",
      " dense_9 (Dense)             (None, 10)                110       \n",
      "                                                                 \n",
      " activation_9 (Activation)   (None, 10)                0         \n",
      "                                                                 \n",
      " batch_normalization_9 (Batc  (None, 10)               40        \n",
      " hNormalization)                                                 \n",
      "                                                                 \n",
      " dense_10 (Dense)            (None, 10)                110       \n",
      "                                                                 \n",
      "=================================================================\n",
      "Total params: 9,350\n",
      "Trainable params: 9,150\n",
      "Non-trainable params: 200\n",
      "_________________________________________________________________\n"
     ]
    }
   ],
   "source": [
    "model_1.summary()"
   ]
  },
  {
   "cell_type": "code",
   "execution_count": 11,
   "id": "60f2f441",
   "metadata": {},
   "outputs": [],
   "source": [
    "#training the model using adam\n",
    "batch_size = 64\n",
    "model_1.compile(optimizer=Adam(learning_rate=0.0001),loss=\"categorical_crossentropy\",metrics=['accuracy'])\n"
   ]
  },
  {
   "cell_type": "code",
   "execution_count": 12,
   "id": "e55d4caf",
   "metadata": {},
   "outputs": [
    {
     "name": "stdout",
     "output_type": "stream",
     "text": [
      "Epoch 1/30\n",
      "938/938 [==============================] - 4s 3ms/step - loss: 0.4169 - accuracy: 0.8937 - val_loss: 0.3725 - val_accuracy: 0.9042\n",
      "Epoch 2/30\n",
      "938/938 [==============================] - 2s 2ms/step - loss: 0.4175 - accuracy: 0.8934 - val_loss: 0.3704 - val_accuracy: 0.9039\n",
      "Epoch 3/30\n",
      "938/938 [==============================] - 2s 2ms/step - loss: 0.4155 - accuracy: 0.8935 - val_loss: 0.3643 - val_accuracy: 0.9048\n",
      "Epoch 4/30\n",
      "938/938 [==============================] - 2s 2ms/step - loss: 0.4085 - accuracy: 0.8958 - val_loss: 0.3637 - val_accuracy: 0.9050\n",
      "Epoch 5/30\n",
      "938/938 [==============================] - 2s 2ms/step - loss: 0.4022 - accuracy: 0.8981 - val_loss: 0.3612 - val_accuracy: 0.9049\n",
      "Epoch 6/30\n",
      "938/938 [==============================] - 2s 2ms/step - loss: 0.3966 - accuracy: 0.8995 - val_loss: 0.3598 - val_accuracy: 0.9090\n",
      "Epoch 7/30\n",
      "938/938 [==============================] - 2s 2ms/step - loss: 0.3973 - accuracy: 0.8988 - val_loss: 0.3577 - val_accuracy: 0.9078\n",
      "Epoch 8/30\n",
      "938/938 [==============================] - 2s 2ms/step - loss: 0.3927 - accuracy: 0.8994 - val_loss: 0.3532 - val_accuracy: 0.9072\n",
      "Epoch 9/30\n",
      "938/938 [==============================] - 2s 2ms/step - loss: 0.3837 - accuracy: 0.9019 - val_loss: 0.3545 - val_accuracy: 0.9085\n",
      "Epoch 10/30\n",
      "938/938 [==============================] - 2s 2ms/step - loss: 0.3858 - accuracy: 0.9017 - val_loss: 0.3539 - val_accuracy: 0.9072\n",
      "Epoch 11/30\n",
      "938/938 [==============================] - 2s 2ms/step - loss: 0.3810 - accuracy: 0.9012 - val_loss: 0.3448 - val_accuracy: 0.9116\n",
      "Epoch 12/30\n",
      "938/938 [==============================] - 2s 2ms/step - loss: 0.3796 - accuracy: 0.9029 - val_loss: 0.3464 - val_accuracy: 0.9098\n",
      "Epoch 13/30\n",
      "938/938 [==============================] - 2s 2ms/step - loss: 0.3776 - accuracy: 0.9036 - val_loss: 0.3462 - val_accuracy: 0.9088\n",
      "Epoch 14/30\n",
      "938/938 [==============================] - 2s 2ms/step - loss: 0.3767 - accuracy: 0.9035 - val_loss: 0.3420 - val_accuracy: 0.9122\n",
      "Epoch 15/30\n",
      "938/938 [==============================] - 2s 2ms/step - loss: 0.3737 - accuracy: 0.9034 - val_loss: 0.3407 - val_accuracy: 0.9115\n",
      "Epoch 16/30\n",
      "938/938 [==============================] - 2s 2ms/step - loss: 0.3655 - accuracy: 0.9053 - val_loss: 0.3411 - val_accuracy: 0.9096\n",
      "Epoch 17/30\n",
      "938/938 [==============================] - 2s 2ms/step - loss: 0.3664 - accuracy: 0.9054 - val_loss: 0.3431 - val_accuracy: 0.9102\n",
      "Epoch 18/30\n",
      "938/938 [==============================] - 2s 2ms/step - loss: 0.3588 - accuracy: 0.9074 - val_loss: 0.3391 - val_accuracy: 0.9108\n",
      "Epoch 19/30\n",
      "938/938 [==============================] - 2s 2ms/step - loss: 0.3613 - accuracy: 0.9071 - val_loss: 0.3383 - val_accuracy: 0.9115\n",
      "Epoch 20/30\n",
      "938/938 [==============================] - 2s 2ms/step - loss: 0.3608 - accuracy: 0.9072 - val_loss: 0.3367 - val_accuracy: 0.9132\n",
      "Epoch 21/30\n",
      "938/938 [==============================] - 2s 2ms/step - loss: 0.3601 - accuracy: 0.9083 - val_loss: 0.3377 - val_accuracy: 0.9121\n",
      "Epoch 22/30\n",
      "938/938 [==============================] - 2s 2ms/step - loss: 0.3574 - accuracy: 0.9082 - val_loss: 0.3319 - val_accuracy: 0.9136\n",
      "Epoch 23/30\n",
      "938/938 [==============================] - 2s 2ms/step - loss: 0.3546 - accuracy: 0.9086 - val_loss: 0.3338 - val_accuracy: 0.9119\n",
      "Epoch 24/30\n",
      "938/938 [==============================] - 2s 2ms/step - loss: 0.3547 - accuracy: 0.9089 - val_loss: 0.3293 - val_accuracy: 0.9139\n",
      "Epoch 25/30\n",
      "938/938 [==============================] - 2s 2ms/step - loss: 0.3549 - accuracy: 0.9082 - val_loss: 0.3339 - val_accuracy: 0.9116\n",
      "Epoch 26/30\n",
      "938/938 [==============================] - 2s 2ms/step - loss: 0.3525 - accuracy: 0.9100 - val_loss: 0.3306 - val_accuracy: 0.9109\n",
      "Epoch 27/30\n",
      "938/938 [==============================] - 2s 3ms/step - loss: 0.3498 - accuracy: 0.9099 - val_loss: 0.3291 - val_accuracy: 0.9130\n",
      "Epoch 28/30\n",
      "938/938 [==============================] - 2s 2ms/step - loss: 0.3506 - accuracy: 0.9091 - val_loss: 0.3285 - val_accuracy: 0.9131\n",
      "Epoch 29/30\n",
      "938/938 [==============================] - 2s 2ms/step - loss: 0.3482 - accuracy: 0.9100 - val_loss: 0.3282 - val_accuracy: 0.9129\n",
      "Epoch 30/30\n",
      "938/938 [==============================] - 2s 2ms/step - loss: 0.3436 - accuracy: 0.9104 - val_loss: 0.3303 - val_accuracy: 0.9098\n"
     ]
    },
    {
     "data": {
      "text/plain": [
       "<keras.callbacks.History at 0x227ecac3e50>"
      ]
     },
     "execution_count": 12,
     "metadata": {},
     "output_type": "execute_result"
    }
   ],
   "source": [
    "model_1.fit(Xtrain,Ytrain, epochs=30,batch_size=batch_size,validation_data=(Xtest,Ytest), shuffle=True, verbose=1)"
   ]
  },
  {
   "cell_type": "code",
   "execution_count": 13,
   "id": "cbb0cd1d",
   "metadata": {},
   "outputs": [
    {
     "name": "stdout",
     "output_type": "stream",
     "text": [
      "313/313 [==============================] - 0s 922us/step - loss: 0.3303 - accuracy: 0.9098\n",
      "Test accuracy of model-1:  0.9097999930381775\n"
     ]
    }
   ],
   "source": [
    "# evaluate the network on the testing data to obtain our final classifications\n",
    "test_loss_1, test_acc_1 = model_1.evaluate(Xtest,Ytest)\n",
    "print(\"Test accuracy of model-1: \", test_acc_1)"
   ]
  },
  {
   "cell_type": "code",
   "execution_count": 14,
   "id": "ff8c67ed",
   "metadata": {},
   "outputs": [
    {
     "name": "stdout",
     "output_type": "stream",
     "text": [
      "313/313 [==============================] - 0s 792us/step\n",
      "[0.39599073 0.99980175 0.8242614  0.04138685 0.46561313 0.02686111\n",
      " 0.68699217 0.2867865  0.8158914  0.312934  ]\n",
      "1\n"
     ]
    }
   ],
   "source": [
    "#prediction on test data\n",
    "predictions = model_1.predict(Xtest)\n",
    "print(predictions[5])\n",
    "print(np.argmax(predictions[5]))"
   ]
  },
  {
   "cell_type": "code",
   "execution_count": 15,
   "id": "c6b30eb5",
   "metadata": {},
   "outputs": [
    {
     "data": {
      "image/png": "[encoded data removed]",
      "text/plain": [
       "<Figure size 432x288 with 2 Axes>"
      ]
     },
     "metadata": {
      "needs_background": "light"
     },
     "output_type": "display_data"
    }
   ],
   "source": [
    "#Showing the testing input\n",
    "plt.figure()\n",
    "plt.imshow(Xtest[5])\n",
    "plt.colorbar()\n",
    "plt.grid(False)\n",
    "plt.show()"
   ]
  },
  {
   "cell_type": "code",
   "execution_count": 16,
   "id": "074ba73a",
   "metadata": {},
   "outputs": [],
   "source": [
    "#model -2 => sigmoid activation everywhere\n",
    "model_2= Sequential()\n",
    "model_2.add(Flatten(input_shape = (28,28)))\n",
    "for i in range(10):\n",
    "    model_2.add(Dense(10))\n",
    "    model_2.add(Activation(\"sigmoid\"))\n",
    "    model_2.add(BatchNormalization())\n",
    "model_2.add(Dense(10,activation=\"sigmoid\"))"
   ]
  },
  {
   "cell_type": "code",
   "execution_count": 17,
   "id": "71dc0b29",
   "metadata": {},
   "outputs": [
    {
     "name": "stdout",
     "output_type": "stream",
     "text": [
      "Model: \"sequential_1\"\n",
      "_________________________________________________________________\n",
      " Layer (type)                Output Shape              Param #   \n",
      "=================================================================\n",
      " flatten_1 (Flatten)         (None, 784)               0         \n",
      "                                                                 \n",
      " dense_11 (Dense)            (None, 10)                7850      \n",
      "                                                                 \n",
      " activation_10 (Activation)  (None, 10)                0         \n",
      "                                                                 \n",
      " batch_normalization_10 (Bat  (None, 10)               40        \n",
      " chNormalization)                                                \n",
      "                                                                 \n",
      " dense_12 (Dense)            (None, 10)                110       \n",
      "                                                                 \n",
      " activation_11 (Activation)  (None, 10)                0         \n",
      "                                                                 \n",
      " batch_normalization_11 (Bat  (None, 10)               40        \n",
      " chNormalization)                                                \n",
      "                                                                 \n",
      " dense_13 (Dense)            (None, 10)                110       \n",
      "                                                                 \n",
      " activation_12 (Activation)  (None, 10)                0         \n",
      "                                                                 \n",
      " batch_normalization_12 (Bat  (None, 10)               40        \n",
      " chNormalization)                                                \n",
      "                                                                 \n",
      " dense_14 (Dense)            (None, 10)                110       \n",
      "                                                                 \n",
      " activation_13 (Activation)  (None, 10)                0         \n",
      "                                                                 \n",
      " batch_normalization_13 (Bat  (None, 10)               40        \n",
      " chNormalization)                                                \n",
      "                                                                 \n",
      " dense_15 (Dense)            (None, 10)                110       \n",
      "                                                                 \n",
      " activation_14 (Activation)  (None, 10)                0         \n",
      "                                                                 \n",
      " batch_normalization_14 (Bat  (None, 10)               40        \n",
      " chNormalization)                                                \n",
      "                                                                 \n",
      " dense_16 (Dense)            (None, 10)                110       \n",
      "                                                                 \n",
      " activation_15 (Activation)  (None, 10)                0         \n",
      "                                                                 \n",
      " batch_normalization_15 (Bat  (None, 10)               40        \n",
      " chNormalization)                                                \n",
      "                                                                 \n",
      " dense_17 (Dense)            (None, 10)                110       \n",
      "                                                                 \n",
      " activation_16 (Activation)  (None, 10)                0         \n",
      "                                                                 \n",
      " batch_normalization_16 (Bat  (None, 10)               40        \n",
      " chNormalization)                                                \n",
      "                                                                 \n",
      " dense_18 (Dense)            (None, 10)                110       \n",
      "                                                                 \n",
      " activation_17 (Activation)  (None, 10)                0         \n",
      "                                                                 \n",
      " batch_normalization_17 (Bat  (None, 10)               40        \n",
      " chNormalization)                                                \n",
      "                                                                 \n",
      " dense_19 (Dense)            (None, 10)                110       \n",
      "                                                                 \n",
      " activation_18 (Activation)  (None, 10)                0         \n",
      "                                                                 \n",
      " batch_normalization_18 (Bat  (None, 10)               40        \n",
      " chNormalization)                                                \n",
      "                                                                 \n",
      " dense_20 (Dense)            (None, 10)                110       \n",
      "                                                                 \n",
      " activation_19 (Activation)  (None, 10)                0         \n",
      "                                                                 \n",
      " batch_normalization_19 (Bat  (None, 10)               40        \n",
      " chNormalization)                                                \n",
      "                                                                 \n",
      " dense_21 (Dense)            (None, 10)                110       \n",
      "                                                                 \n",
      "=================================================================\n",
      "Total params: 9,350\n",
      "Trainable params: 9,150\n",
      "Non-trainable params: 200\n",
      "_________________________________________________________________\n"
     ]
    }
   ],
   "source": [
    "model_2.summary()"
   ]
  },
  {
   "cell_type": "code",
   "execution_count": 18,
   "id": "9a904062",
   "metadata": {},
   "outputs": [],
   "source": [
    "model_2.compile(optimizer=Adam(learning_rate=0.0001),loss=\"categorical_crossentropy\",metrics=['accuracy'])"
   ]
  },
  {
   "cell_type": "code",
   "execution_count": 19,
   "id": "0be6b88d",
   "metadata": {},
   "outputs": [
    {
     "name": "stdout",
     "output_type": "stream",
     "text": [
      "Epoch 1/30\n",
      "938/938 [==============================] - 5s 3ms/step - loss: 1.6506 - accuracy: 0.4771 - val_loss: 1.1720 - val_accuracy: 0.7224\n",
      "Epoch 2/30\n",
      "938/938 [==============================] - 2s 2ms/step - loss: 1.0117 - accuracy: 0.7574 - val_loss: 0.7926 - val_accuracy: 0.8334\n",
      "Epoch 3/30\n",
      "938/938 [==============================] - 2s 2ms/step - loss: 0.7327 - accuracy: 0.8297 - val_loss: 0.5671 - val_accuracy: 0.8764\n",
      "Epoch 4/30\n",
      "938/938 [==============================] - 2s 2ms/step - loss: 0.5755 - accuracy: 0.8568 - val_loss: 0.4559 - val_accuracy: 0.8903\n",
      "Epoch 5/30\n",
      "938/938 [==============================] - 2s 2ms/step - loss: 0.4920 - accuracy: 0.8707 - val_loss: 0.3954 - val_accuracy: 0.8976\n",
      "Epoch 6/30\n",
      "938/938 [==============================] - 2s 2ms/step - loss: 0.4411 - accuracy: 0.8803 - val_loss: 0.3573 - val_accuracy: 0.9057\n",
      "Epoch 7/30\n",
      "938/938 [==============================] - 2s 2ms/step - loss: 0.4107 - accuracy: 0.8853 - val_loss: 0.3329 - val_accuracy: 0.9079\n",
      "Epoch 8/30\n",
      "938/938 [==============================] - 2s 2ms/step - loss: 0.3902 - accuracy: 0.8899 - val_loss: 0.3154 - val_accuracy: 0.9120\n",
      "Epoch 9/30\n",
      "938/938 [==============================] - 2s 2ms/step - loss: 0.3708 - accuracy: 0.8943 - val_loss: 0.3023 - val_accuracy: 0.9134\n",
      "Epoch 10/30\n",
      "938/938 [==============================] - 2s 2ms/step - loss: 0.3590 - accuracy: 0.8971 - val_loss: 0.2913 - val_accuracy: 0.9163\n",
      "Epoch 11/30\n",
      "938/938 [==============================] - 2s 2ms/step - loss: 0.3468 - accuracy: 0.9005 - val_loss: 0.2789 - val_accuracy: 0.9198\n",
      "Epoch 12/30\n",
      "938/938 [==============================] - 2s 2ms/step - loss: 0.3356 - accuracy: 0.9033 - val_loss: 0.2729 - val_accuracy: 0.9221\n",
      "Epoch 13/30\n",
      "938/938 [==============================] - 2s 2ms/step - loss: 0.3267 - accuracy: 0.9049 - val_loss: 0.2641 - val_accuracy: 0.9230\n",
      "Epoch 14/30\n",
      "938/938 [==============================] - 2s 2ms/step - loss: 0.3195 - accuracy: 0.9075 - val_loss: 0.2569 - val_accuracy: 0.9250\n",
      "Epoch 15/30\n",
      "938/938 [==============================] - 2s 2ms/step - loss: 0.3084 - accuracy: 0.9107 - val_loss: 0.2481 - val_accuracy: 0.9273\n",
      "Epoch 16/30\n",
      "938/938 [==============================] - 2s 2ms/step - loss: 0.3070 - accuracy: 0.9108 - val_loss: 0.2441 - val_accuracy: 0.9280\n",
      "Epoch 17/30\n",
      "938/938 [==============================] - 2s 2ms/step - loss: 0.2961 - accuracy: 0.9139 - val_loss: 0.2392 - val_accuracy: 0.9299\n",
      "Epoch 18/30\n",
      "938/938 [==============================] - 2s 2ms/step - loss: 0.2925 - accuracy: 0.9144 - val_loss: 0.2338 - val_accuracy: 0.9317\n",
      "Epoch 19/30\n",
      "938/938 [==============================] - 2s 2ms/step - loss: 0.2824 - accuracy: 0.9173 - val_loss: 0.2297 - val_accuracy: 0.9338\n",
      "Epoch 20/30\n",
      "938/938 [==============================] - 2s 2ms/step - loss: 0.2813 - accuracy: 0.9174 - val_loss: 0.2253 - val_accuracy: 0.9346\n",
      "Epoch 21/30\n",
      "938/938 [==============================] - 2s 2ms/step - loss: 0.2795 - accuracy: 0.9171 - val_loss: 0.2232 - val_accuracy: 0.9345\n",
      "Epoch 22/30\n",
      "938/938 [==============================] - 2s 2ms/step - loss: 0.2702 - accuracy: 0.9212 - val_loss: 0.2173 - val_accuracy: 0.9362\n",
      "Epoch 23/30\n",
      "938/938 [==============================] - 3s 3ms/step - loss: 0.2670 - accuracy: 0.9212 - val_loss: 0.2166 - val_accuracy: 0.9366\n",
      "Epoch 24/30\n",
      "938/938 [==============================] - 3s 3ms/step - loss: 0.2625 - accuracy: 0.9221 - val_loss: 0.2149 - val_accuracy: 0.9378\n",
      "Epoch 25/30\n",
      "938/938 [==============================] - 3s 3ms/step - loss: 0.2580 - accuracy: 0.9241 - val_loss: 0.2106 - val_accuracy: 0.9393\n",
      "Epoch 26/30\n",
      "938/938 [==============================] - 3s 3ms/step - loss: 0.2584 - accuracy: 0.9234 - val_loss: 0.2081 - val_accuracy: 0.9407\n",
      "Epoch 27/30\n",
      "938/938 [==============================] - 3s 3ms/step - loss: 0.2590 - accuracy: 0.9235 - val_loss: 0.2082 - val_accuracy: 0.9390\n",
      "Epoch 28/30\n",
      "938/938 [==============================] - 3s 3ms/step - loss: 0.2505 - accuracy: 0.9259 - val_loss: 0.2071 - val_accuracy: 0.9404\n",
      "Epoch 29/30\n",
      "938/938 [==============================] - 3s 3ms/step - loss: 0.2498 - accuracy: 0.9258 - val_loss: 0.2032 - val_accuracy: 0.9409\n",
      "Epoch 30/30\n",
      "938/938 [==============================] - 3s 3ms/step - loss: 0.2473 - accuracy: 0.9270 - val_loss: 0.2028 - val_accuracy: 0.9419\n"
     ]
    },
    {
     "data": {
      "text/plain": [
       "<keras.callbacks.History at 0x22780086850>"
      ]
     },
     "execution_count": 19,
     "metadata": {},
     "output_type": "execute_result"
    }
   ],
   "source": [
    "model_2.fit(Xtrain,Ytrain, epochs=30,batch_size=batch_size,validation_data=(Xtest,Ytest), shuffle=True, verbose=1)"
   ]
  },
  {
   "cell_type": "code",
   "execution_count": 20,
   "id": "6e9c6647",
   "metadata": {},
   "outputs": [
    {
     "name": "stdout",
     "output_type": "stream",
     "text": [
      "313/313 [==============================] - 0s 943us/step - loss: 0.2028 - accuracy: 0.9419\n",
      "Test accuracy of model-2:  0.9419000148773193\n"
     ]
    }
   ],
   "source": [
    "test_loss_2, test_acc_2 = model_2.evaluate(Xtest,Ytest)\n",
    "print(\"Test accuracy of model-2: \", test_acc_2)"
   ]
  },
  {
   "cell_type": "code",
   "execution_count": null,
   "id": "3c78195e",
   "metadata": {},
   "outputs": [],
   "source": []
  }
 ],
 "metadata": {
  "kernelspec": {
   "display_name": "Python 3 (ipykernel)",
   "language": "python",
   "name": "python3"
  },
  "language_info": {
   "codemirror_mode": {
    "name": "ipython",
    "version": 3
   },
   "file_extension": ".py",
   "mimetype": "text/x-python",
   "name": "python",
   "nbconvert_exporter": "python",
   "pygments_lexer": "ipython3",
   "version": "3.9.12"
  }
 },
 "nbformat": 4,
 "nbformat_minor": 5
}
